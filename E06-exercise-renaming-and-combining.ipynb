{
 "cells": [
  {
   "cell_type": "markdown",
   "id": "87800d59",
   "metadata": {
    "papermill": {
     "duration": 0.005656,
     "end_time": "2023-07-03T07:59:50.496407",
     "exception": false,
     "start_time": "2023-07-03T07:59:50.490751",
     "status": "completed"
    },
    "tags": []
   },
   "source": [
    "**This notebook is an exercise in the [Pandas](https://www.kaggle.com/learn/pandas) course.  You can reference the tutorial at [this link](https://www.kaggle.com/residentmario/renaming-and-combining).**\n",
    "\n",
    "---\n"
   ]
  },
  {
   "cell_type": "markdown",
   "id": "97d7c6c9",
   "metadata": {
    "papermill": {
     "duration": 0.004807,
     "end_time": "2023-07-03T07:59:50.506689",
     "exception": false,
     "start_time": "2023-07-03T07:59:50.501882",
     "status": "completed"
    },
    "tags": []
   },
   "source": [
    "# Introduction\n",
    "\n",
    "Run the following cell to load your data and some utility functions."
   ]
  },
  {
   "cell_type": "code",
   "execution_count": 1,
   "id": "921bc501",
   "metadata": {
    "execution": {
     "iopub.execute_input": "2023-07-03T07:59:50.518573Z",
     "iopub.status.busy": "2023-07-03T07:59:50.517862Z",
     "iopub.status.idle": "2023-07-03T07:59:54.378131Z",
     "shell.execute_reply": "2023-07-03T07:59:54.376070Z"
    },
    "papermill": {
     "duration": 3.869246,
     "end_time": "2023-07-03T07:59:54.380557",
     "exception": false,
     "start_time": "2023-07-03T07:59:50.511311",
     "status": "completed"
    },
    "tags": []
   },
   "outputs": [
    {
     "name": "stdout",
     "output_type": "stream",
     "text": [
      "Setup complete.\n"
     ]
    }
   ],
   "source": [
    "import pandas as pd\n",
    "\n",
    "reviews = pd.read_csv(\"../input/wine-reviews/winemag-data-130k-v2.csv\", index_col=0)\n",
    "\n",
    "from learntools.core import binder; binder.bind(globals())\n",
    "from learntools.pandas.renaming_and_combining import *\n",
    "print(\"Setup complete.\")"
   ]
  },
  {
   "cell_type": "markdown",
   "id": "750918d0",
   "metadata": {
    "papermill": {
     "duration": 0.004495,
     "end_time": "2023-07-03T07:59:54.389815",
     "exception": false,
     "start_time": "2023-07-03T07:59:54.385320",
     "status": "completed"
    },
    "tags": []
   },
   "source": [
    "# Exercises\n",
    "\n",
    "View the first several lines of your data by running the cell below:"
   ]
  },
  {
   "cell_type": "code",
   "execution_count": 2,
   "id": "6b7fceb4",
   "metadata": {
    "execution": {
     "iopub.execute_input": "2023-07-03T07:59:54.401001Z",
     "iopub.status.busy": "2023-07-03T07:59:54.400606Z",
     "iopub.status.idle": "2023-07-03T07:59:54.435068Z",
     "shell.execute_reply": "2023-07-03T07:59:54.433845Z"
    },
    "papermill": {
     "duration": 0.043145,
     "end_time": "2023-07-03T07:59:54.437674",
     "exception": false,
     "start_time": "2023-07-03T07:59:54.394529",
     "status": "completed"
    },
    "tags": []
   },
   "outputs": [
    {
     "data": {
      "text/html": [
       "<div>\n",
       "<style scoped>\n",
       "    .dataframe tbody tr th:only-of-type {\n",
       "        vertical-align: middle;\n",
       "    }\n",
       "\n",
       "    .dataframe tbody tr th {\n",
       "        vertical-align: top;\n",
       "    }\n",
       "\n",
       "    .dataframe thead th {\n",
       "        text-align: right;\n",
       "    }\n",
       "</style>\n",
       "<table border=\"1\" class=\"dataframe\">\n",
       "  <thead>\n",
       "    <tr style=\"text-align: right;\">\n",
       "      <th></th>\n",
       "      <th>country</th>\n",
       "      <th>description</th>\n",
       "      <th>designation</th>\n",
       "      <th>points</th>\n",
       "      <th>price</th>\n",
       "      <th>province</th>\n",
       "      <th>region_1</th>\n",
       "      <th>region_2</th>\n",
       "      <th>taster_name</th>\n",
       "      <th>taster_twitter_handle</th>\n",
       "      <th>title</th>\n",
       "      <th>variety</th>\n",
       "      <th>winery</th>\n",
       "    </tr>\n",
       "  </thead>\n",
       "  <tbody>\n",
       "    <tr>\n",
       "      <th>0</th>\n",
       "      <td>Italy</td>\n",
       "      <td>Aromas include tropical fruit, broom, brimston...</td>\n",
       "      <td>Vulkà Bianco</td>\n",
       "      <td>87</td>\n",
       "      <td>NaN</td>\n",
       "      <td>Sicily &amp; Sardinia</td>\n",
       "      <td>Etna</td>\n",
       "      <td>NaN</td>\n",
       "      <td>Kerin O’Keefe</td>\n",
       "      <td>@kerinokeefe</td>\n",
       "      <td>Nicosia 2013 Vulkà Bianco  (Etna)</td>\n",
       "      <td>White Blend</td>\n",
       "      <td>Nicosia</td>\n",
       "    </tr>\n",
       "    <tr>\n",
       "      <th>1</th>\n",
       "      <td>Portugal</td>\n",
       "      <td>This is ripe and fruity, a wine that is smooth...</td>\n",
       "      <td>Avidagos</td>\n",
       "      <td>87</td>\n",
       "      <td>15.0</td>\n",
       "      <td>Douro</td>\n",
       "      <td>NaN</td>\n",
       "      <td>NaN</td>\n",
       "      <td>Roger Voss</td>\n",
       "      <td>@vossroger</td>\n",
       "      <td>Quinta dos Avidagos 2011 Avidagos Red (Douro)</td>\n",
       "      <td>Portuguese Red</td>\n",
       "      <td>Quinta dos Avidagos</td>\n",
       "    </tr>\n",
       "    <tr>\n",
       "      <th>2</th>\n",
       "      <td>US</td>\n",
       "      <td>Tart and snappy, the flavors of lime flesh and...</td>\n",
       "      <td>NaN</td>\n",
       "      <td>87</td>\n",
       "      <td>14.0</td>\n",
       "      <td>Oregon</td>\n",
       "      <td>Willamette Valley</td>\n",
       "      <td>Willamette Valley</td>\n",
       "      <td>Paul Gregutt</td>\n",
       "      <td>@paulgwine</td>\n",
       "      <td>Rainstorm 2013 Pinot Gris (Willamette Valley)</td>\n",
       "      <td>Pinot Gris</td>\n",
       "      <td>Rainstorm</td>\n",
       "    </tr>\n",
       "    <tr>\n",
       "      <th>3</th>\n",
       "      <td>US</td>\n",
       "      <td>Pineapple rind, lemon pith and orange blossom ...</td>\n",
       "      <td>Reserve Late Harvest</td>\n",
       "      <td>87</td>\n",
       "      <td>13.0</td>\n",
       "      <td>Michigan</td>\n",
       "      <td>Lake Michigan Shore</td>\n",
       "      <td>NaN</td>\n",
       "      <td>Alexander Peartree</td>\n",
       "      <td>NaN</td>\n",
       "      <td>St. Julian 2013 Reserve Late Harvest Riesling ...</td>\n",
       "      <td>Riesling</td>\n",
       "      <td>St. Julian</td>\n",
       "    </tr>\n",
       "    <tr>\n",
       "      <th>4</th>\n",
       "      <td>US</td>\n",
       "      <td>Much like the regular bottling from 2012, this...</td>\n",
       "      <td>Vintner's Reserve Wild Child Block</td>\n",
       "      <td>87</td>\n",
       "      <td>65.0</td>\n",
       "      <td>Oregon</td>\n",
       "      <td>Willamette Valley</td>\n",
       "      <td>Willamette Valley</td>\n",
       "      <td>Paul Gregutt</td>\n",
       "      <td>@paulgwine</td>\n",
       "      <td>Sweet Cheeks 2012 Vintner's Reserve Wild Child...</td>\n",
       "      <td>Pinot Noir</td>\n",
       "      <td>Sweet Cheeks</td>\n",
       "    </tr>\n",
       "  </tbody>\n",
       "</table>\n",
       "</div>"
      ],
      "text/plain": [
       "    country                                        description  \\\n",
       "0     Italy  Aromas include tropical fruit, broom, brimston...   \n",
       "1  Portugal  This is ripe and fruity, a wine that is smooth...   \n",
       "2        US  Tart and snappy, the flavors of lime flesh and...   \n",
       "3        US  Pineapple rind, lemon pith and orange blossom ...   \n",
       "4        US  Much like the regular bottling from 2012, this...   \n",
       "\n",
       "                          designation  points  price           province  \\\n",
       "0                        Vulkà Bianco      87    NaN  Sicily & Sardinia   \n",
       "1                            Avidagos      87   15.0              Douro   \n",
       "2                                 NaN      87   14.0             Oregon   \n",
       "3                Reserve Late Harvest      87   13.0           Michigan   \n",
       "4  Vintner's Reserve Wild Child Block      87   65.0             Oregon   \n",
       "\n",
       "              region_1           region_2         taster_name  \\\n",
       "0                 Etna                NaN       Kerin O’Keefe   \n",
       "1                  NaN                NaN          Roger Voss   \n",
       "2    Willamette Valley  Willamette Valley        Paul Gregutt   \n",
       "3  Lake Michigan Shore                NaN  Alexander Peartree   \n",
       "4    Willamette Valley  Willamette Valley        Paul Gregutt   \n",
       "\n",
       "  taster_twitter_handle                                              title  \\\n",
       "0          @kerinokeefe                  Nicosia 2013 Vulkà Bianco  (Etna)   \n",
       "1            @vossroger      Quinta dos Avidagos 2011 Avidagos Red (Douro)   \n",
       "2           @paulgwine       Rainstorm 2013 Pinot Gris (Willamette Valley)   \n",
       "3                   NaN  St. Julian 2013 Reserve Late Harvest Riesling ...   \n",
       "4           @paulgwine   Sweet Cheeks 2012 Vintner's Reserve Wild Child...   \n",
       "\n",
       "          variety               winery  \n",
       "0     White Blend              Nicosia  \n",
       "1  Portuguese Red  Quinta dos Avidagos  \n",
       "2      Pinot Gris            Rainstorm  \n",
       "3        Riesling           St. Julian  \n",
       "4      Pinot Noir         Sweet Cheeks  "
      ]
     },
     "execution_count": 2,
     "metadata": {},
     "output_type": "execute_result"
    }
   ],
   "source": [
    "reviews.head()"
   ]
  },
  {
   "cell_type": "markdown",
   "id": "418854ee",
   "metadata": {
    "papermill": {
     "duration": 0.004328,
     "end_time": "2023-07-03T07:59:54.449150",
     "exception": false,
     "start_time": "2023-07-03T07:59:54.444822",
     "status": "completed"
    },
    "tags": []
   },
   "source": [
    "## 1.\n",
    "`region_1` and `region_2` are pretty uninformative names for locale columns in the dataset. Create a copy of `reviews` with these columns renamed to `region` and `locale`, respectively."
   ]
  },
  {
   "cell_type": "code",
   "execution_count": 3,
   "id": "566ec113",
   "metadata": {
    "execution": {
     "iopub.execute_input": "2023-07-03T07:59:54.459905Z",
     "iopub.status.busy": "2023-07-03T07:59:54.459542Z",
     "iopub.status.idle": "2023-07-03T07:59:54.482171Z",
     "shell.execute_reply": "2023-07-03T07:59:54.481495Z"
    },
    "papermill": {
     "duration": 0.030707,
     "end_time": "2023-07-03T07:59:54.484273",
     "exception": false,
     "start_time": "2023-07-03T07:59:54.453566",
     "status": "completed"
    },
    "tags": []
   },
   "outputs": [
    {
     "data": {
      "application/javascript": [
       "parent.postMessage({\"jupyterEvent\": \"custom.exercise_interaction\", \"data\": {\"outcomeType\": 1, \"valueTowardsCompletion\": 0.25, \"interactionType\": 1, \"questionType\": 1, \"questionId\": \"1_RenameCols\", \"learnToolsVersion\": \"0.3.4\", \"failureMessage\": \"\", \"exceptionClass\": \"\", \"trace\": \"\"}}, \"*\")"
      ],
      "text/plain": [
       "<IPython.core.display.Javascript object>"
      ]
     },
     "metadata": {},
     "output_type": "display_data"
    },
    {
     "data": {
      "text/markdown": [
       "<span style=\"color:#33cc33\">Correct</span>"
      ],
      "text/plain": [
       "Correct"
      ]
     },
     "metadata": {},
     "output_type": "display_data"
    }
   ],
   "source": [
    "# Your code here\n",
    "renamed = reviews.rename(columns= {'region_1':'region','region_2':'locale'})\n",
    "\n",
    "# Check your answer\n",
    "q1.check()"
   ]
  },
  {
   "cell_type": "code",
   "execution_count": 4,
   "id": "d1d15b0d",
   "metadata": {
    "execution": {
     "iopub.execute_input": "2023-07-03T07:59:54.496904Z",
     "iopub.status.busy": "2023-07-03T07:59:54.495460Z",
     "iopub.status.idle": "2023-07-03T07:59:54.500168Z",
     "shell.execute_reply": "2023-07-03T07:59:54.499480Z"
    },
    "papermill": {
     "duration": 0.012482,
     "end_time": "2023-07-03T07:59:54.501839",
     "exception": false,
     "start_time": "2023-07-03T07:59:54.489357",
     "status": "completed"
    },
    "tags": []
   },
   "outputs": [],
   "source": [
    "#q1.hint()\n",
    "#q1.solution()"
   ]
  },
  {
   "cell_type": "markdown",
   "id": "4484ebb0",
   "metadata": {
    "papermill": {
     "duration": 0.004693,
     "end_time": "2023-07-03T07:59:54.511814",
     "exception": false,
     "start_time": "2023-07-03T07:59:54.507121",
     "status": "completed"
    },
    "tags": []
   },
   "source": [
    "## 2.\n",
    "Set the index name in the dataset to `wines`."
   ]
  },
  {
   "cell_type": "code",
   "execution_count": 5,
   "id": "3baa6793",
   "metadata": {
    "execution": {
     "iopub.execute_input": "2023-07-03T07:59:54.523582Z",
     "iopub.status.busy": "2023-07-03T07:59:54.523204Z",
     "iopub.status.idle": "2023-07-03T07:59:54.542739Z",
     "shell.execute_reply": "2023-07-03T07:59:54.541850Z"
    },
    "papermill": {
     "duration": 0.028049,
     "end_time": "2023-07-03T07:59:54.544890",
     "exception": false,
     "start_time": "2023-07-03T07:59:54.516841",
     "status": "completed"
    },
    "tags": []
   },
   "outputs": [
    {
     "data": {
      "application/javascript": [
       "parent.postMessage({\"jupyterEvent\": \"custom.exercise_interaction\", \"data\": {\"outcomeType\": 1, \"valueTowardsCompletion\": 0.25, \"interactionType\": 1, \"questionType\": 1, \"questionId\": \"2_RenameIndex\", \"learnToolsVersion\": \"0.3.4\", \"failureMessage\": \"\", \"exceptionClass\": \"\", \"trace\": \"\"}}, \"*\")"
      ],
      "text/plain": [
       "<IPython.core.display.Javascript object>"
      ]
     },
     "metadata": {},
     "output_type": "display_data"
    },
    {
     "data": {
      "text/markdown": [
       "<span style=\"color:#33cc33\">Correct</span>"
      ],
      "text/plain": [
       "Correct"
      ]
     },
     "metadata": {},
     "output_type": "display_data"
    }
   ],
   "source": [
    "reindexed = reviews.rename_axis('wines', axis = 'rows')\n",
    "\n",
    "# Check your answer\n",
    "q2.check()"
   ]
  },
  {
   "cell_type": "code",
   "execution_count": 6,
   "id": "00980c59",
   "metadata": {
    "execution": {
     "iopub.execute_input": "2023-07-03T07:59:54.558049Z",
     "iopub.status.busy": "2023-07-03T07:59:54.557708Z",
     "iopub.status.idle": "2023-07-03T07:59:54.560816Z",
     "shell.execute_reply": "2023-07-03T07:59:54.560233Z"
    },
    "papermill": {
     "duration": 0.012019,
     "end_time": "2023-07-03T07:59:54.562860",
     "exception": false,
     "start_time": "2023-07-03T07:59:54.550841",
     "status": "completed"
    },
    "tags": []
   },
   "outputs": [],
   "source": [
    "#q2.hint()\n",
    "#q2.solution()"
   ]
  },
  {
   "cell_type": "markdown",
   "id": "0a2972cf",
   "metadata": {
    "papermill": {
     "duration": 0.004954,
     "end_time": "2023-07-03T07:59:54.573888",
     "exception": false,
     "start_time": "2023-07-03T07:59:54.568934",
     "status": "completed"
    },
    "tags": []
   },
   "source": [
    "## 3.\n",
    "The [Things on Reddit](https://www.kaggle.com/residentmario/things-on-reddit/data) dataset includes product links from a selection of top-ranked forums (\"subreddits\") on reddit.com. Run the cell below to load a dataframe of products mentioned on the */r/gaming* subreddit and another dataframe for products mentioned on the *r//movies* subreddit."
   ]
  },
  {
   "cell_type": "code",
   "execution_count": 7,
   "id": "dcec29b8",
   "metadata": {
    "execution": {
     "iopub.execute_input": "2023-07-03T07:59:54.586148Z",
     "iopub.status.busy": "2023-07-03T07:59:54.585536Z",
     "iopub.status.idle": "2023-07-03T07:59:54.598418Z",
     "shell.execute_reply": "2023-07-03T07:59:54.597676Z"
    },
    "papermill": {
     "duration": 0.022457,
     "end_time": "2023-07-03T07:59:54.601432",
     "exception": false,
     "start_time": "2023-07-03T07:59:54.578975",
     "status": "completed"
    },
    "tags": []
   },
   "outputs": [],
   "source": [
    "gaming_products = pd.read_csv(\"../input/things-on-reddit/top-things/top-things/reddits/g/gaming.csv\")\n",
    "gaming_products['subreddit'] = \"r/gaming\"\n",
    "movie_products = pd.read_csv(\"../input/things-on-reddit/top-things/top-things/reddits/m/movies.csv\")\n",
    "movie_products['subreddit'] = \"r/movies\""
   ]
  },
  {
   "cell_type": "markdown",
   "id": "0d654f16",
   "metadata": {
    "papermill": {
     "duration": 0.005416,
     "end_time": "2023-07-03T07:59:54.612741",
     "exception": false,
     "start_time": "2023-07-03T07:59:54.607325",
     "status": "completed"
    },
    "tags": []
   },
   "source": [
    "Create a `DataFrame` of products mentioned on *either* subreddit."
   ]
  },
  {
   "cell_type": "code",
   "execution_count": 8,
   "id": "0945474d",
   "metadata": {
    "execution": {
     "iopub.execute_input": "2023-07-03T07:59:54.626270Z",
     "iopub.status.busy": "2023-07-03T07:59:54.625556Z",
     "iopub.status.idle": "2023-07-03T07:59:54.637195Z",
     "shell.execute_reply": "2023-07-03T07:59:54.635933Z"
    },
    "papermill": {
     "duration": 0.022032,
     "end_time": "2023-07-03T07:59:54.640315",
     "exception": false,
     "start_time": "2023-07-03T07:59:54.618283",
     "status": "completed"
    },
    "tags": []
   },
   "outputs": [
    {
     "data": {
      "application/javascript": [
       "parent.postMessage({\"jupyterEvent\": \"custom.exercise_interaction\", \"data\": {\"outcomeType\": 1, \"valueTowardsCompletion\": 0.25, \"interactionType\": 1, \"questionType\": 2, \"questionId\": \"3_ConcatReddit\", \"learnToolsVersion\": \"0.3.4\", \"failureMessage\": \"\", \"exceptionClass\": \"\", \"trace\": \"\"}}, \"*\")"
      ],
      "text/plain": [
       "<IPython.core.display.Javascript object>"
      ]
     },
     "metadata": {},
     "output_type": "display_data"
    },
    {
     "data": {
      "text/markdown": [
       "<span style=\"color:#33cc33\">Correct</span>"
      ],
      "text/plain": [
       "Correct"
      ]
     },
     "metadata": {},
     "output_type": "display_data"
    }
   ],
   "source": [
    "combined_products = pd.concat([gaming_products,movie_products])\n",
    "\n",
    "# Check your answer\n",
    "q3.check()"
   ]
  },
  {
   "cell_type": "code",
   "execution_count": 9,
   "id": "3872c5df",
   "metadata": {
    "execution": {
     "iopub.execute_input": "2023-07-03T07:59:54.656520Z",
     "iopub.status.busy": "2023-07-03T07:59:54.655865Z",
     "iopub.status.idle": "2023-07-03T07:59:54.660964Z",
     "shell.execute_reply": "2023-07-03T07:59:54.658859Z"
    },
    "papermill": {
     "duration": 0.017835,
     "end_time": "2023-07-03T07:59:54.664389",
     "exception": false,
     "start_time": "2023-07-03T07:59:54.646554",
     "status": "completed"
    },
    "tags": []
   },
   "outputs": [],
   "source": [
    "#q3.hint()\n",
    "#q3.solution()"
   ]
  },
  {
   "cell_type": "markdown",
   "id": "e414fc33",
   "metadata": {
    "papermill": {
     "duration": 0.006119,
     "end_time": "2023-07-03T07:59:54.677264",
     "exception": false,
     "start_time": "2023-07-03T07:59:54.671145",
     "status": "completed"
    },
    "tags": []
   },
   "source": [
    "## 4.\n",
    "The [Powerlifting Database](https://www.kaggle.com/open-powerlifting/powerlifting-database) dataset on Kaggle includes one CSV table for powerlifting meets and a separate one for powerlifting competitors. Run the cell below to load these datasets into dataframes:"
   ]
  },
  {
   "cell_type": "code",
   "execution_count": 10,
   "id": "e16109cf",
   "metadata": {
    "execution": {
     "iopub.execute_input": "2023-07-03T07:59:54.691432Z",
     "iopub.status.busy": "2023-07-03T07:59:54.690770Z",
     "iopub.status.idle": "2023-07-03T07:59:55.248276Z",
     "shell.execute_reply": "2023-07-03T07:59:55.247061Z"
    },
    "papermill": {
     "duration": 0.567819,
     "end_time": "2023-07-03T07:59:55.251135",
     "exception": false,
     "start_time": "2023-07-03T07:59:54.683316",
     "status": "completed"
    },
    "tags": []
   },
   "outputs": [],
   "source": [
    "powerlifting_meets = pd.read_csv(\"../input/powerlifting-database/meets.csv\")\n",
    "powerlifting_competitors = pd.read_csv(\"../input/powerlifting-database/openpowerlifting.csv\")"
   ]
  },
  {
   "cell_type": "markdown",
   "id": "df62b7d8",
   "metadata": {
    "papermill": {
     "duration": 0.005624,
     "end_time": "2023-07-03T07:59:55.262967",
     "exception": false,
     "start_time": "2023-07-03T07:59:55.257343",
     "status": "completed"
    },
    "tags": []
   },
   "source": [
    "Both tables include references to a `MeetID`, a unique key for each meet (competition) included in the database. Using this, generate a dataset combining the two tables into one."
   ]
  },
  {
   "cell_type": "code",
   "execution_count": 11,
   "id": "ad4135e7",
   "metadata": {
    "execution": {
     "iopub.execute_input": "2023-07-03T07:59:55.276059Z",
     "iopub.status.busy": "2023-07-03T07:59:55.275627Z",
     "iopub.status.idle": "2023-07-03T07:59:56.189300Z",
     "shell.execute_reply": "2023-07-03T07:59:56.188271Z"
    },
    "papermill": {
     "duration": 0.922944,
     "end_time": "2023-07-03T07:59:56.191542",
     "exception": false,
     "start_time": "2023-07-03T07:59:55.268598",
     "status": "completed"
    },
    "tags": []
   },
   "outputs": [
    {
     "data": {
      "application/javascript": [
       "parent.postMessage({\"jupyterEvent\": \"custom.exercise_interaction\", \"data\": {\"outcomeType\": 1, \"valueTowardsCompletion\": 0.25, \"interactionType\": 1, \"questionType\": 2, \"questionId\": \"4_JoinLifting\", \"learnToolsVersion\": \"0.3.4\", \"failureMessage\": \"\", \"exceptionClass\": \"\", \"trace\": \"\"}}, \"*\")"
      ],
      "text/plain": [
       "<IPython.core.display.Javascript object>"
      ]
     },
     "metadata": {},
     "output_type": "display_data"
    },
    {
     "data": {
      "text/markdown": [
       "<span style=\"color:#33cc33\">Correct</span>"
      ],
      "text/plain": [
       "Correct"
      ]
     },
     "metadata": {},
     "output_type": "display_data"
    }
   ],
   "source": [
    "left = powerlifting_meets.set_index('MeetID')\n",
    "right = powerlifting_competitors.set_index('MeetID')\n",
    "powerlifting_combined = left.join(right)\n",
    "\n",
    "# Check your answer\n",
    "q4.check()"
   ]
  },
  {
   "cell_type": "code",
   "execution_count": 12,
   "id": "75190119",
   "metadata": {
    "execution": {
     "iopub.execute_input": "2023-07-03T07:59:56.207609Z",
     "iopub.status.busy": "2023-07-03T07:59:56.207140Z",
     "iopub.status.idle": "2023-07-03T07:59:56.211901Z",
     "shell.execute_reply": "2023-07-03T07:59:56.210332Z"
    },
    "papermill": {
     "duration": 0.015983,
     "end_time": "2023-07-03T07:59:56.214166",
     "exception": false,
     "start_time": "2023-07-03T07:59:56.198183",
     "status": "completed"
    },
    "tags": []
   },
   "outputs": [],
   "source": [
    "#q4.hint()\n",
    "#q4.solution()"
   ]
  },
  {
   "cell_type": "markdown",
   "id": "18f5c0ba",
   "metadata": {
    "papermill": {
     "duration": 0.00545,
     "end_time": "2023-07-03T07:59:56.226070",
     "exception": false,
     "start_time": "2023-07-03T07:59:56.220620",
     "status": "completed"
    },
    "tags": []
   },
   "source": [
    "# Congratulations!\n",
    "\n",
    "You've finished the Pandas micro-course.  Many data scientists feel efficiency with Pandas is the most useful and practical skill they have, because it allows you to progress quickly in any project you have.\n",
    "\n",
    "If you'd like to apply your new skills to examining geospatial data, you're encouraged to check out our **[Geospatial Analysis](https://www.kaggle.com/learn/geospatial-analysis)** micro-course.\n",
    "\n",
    "You can also take advantage of your Pandas skills by entering a **[Kaggle Competition](https://www.kaggle.com/competitions)** or by answering a question you find interesting using **[Kaggle Datasets](https://www.kaggle.com/datasets)**."
   ]
  },
  {
   "cell_type": "markdown",
   "id": "39ed39ed",
   "metadata": {
    "papermill": {
     "duration": 0.005587,
     "end_time": "2023-07-03T07:59:56.237432",
     "exception": false,
     "start_time": "2023-07-03T07:59:56.231845",
     "status": "completed"
    },
    "tags": []
   },
   "source": [
    "---\n",
    "\n",
    "\n",
    "\n",
    "\n",
    "*Have questions or comments? Visit the [course discussion forum](https://www.kaggle.com/learn/pandas/discussion) to chat with other learners.*"
   ]
  }
 ],
 "metadata": {
  "kernelspec": {
   "display_name": "Python 3",
   "language": "python",
   "name": "python3"
  },
  "language_info": {
   "codemirror_mode": {
    "name": "ipython",
    "version": 3
   },
   "file_extension": ".py",
   "mimetype": "text/x-python",
   "name": "python",
   "nbconvert_exporter": "python",
   "pygments_lexer": "ipython3",
   "version": "3.10.10"
  },
  "papermill": {
   "default_parameters": {},
   "duration": 16.883794,
   "end_time": "2023-07-03T07:59:57.472146",
   "environment_variables": {},
   "exception": null,
   "input_path": "__notebook__.ipynb",
   "output_path": "__notebook__.ipynb",
   "parameters": {},
   "start_time": "2023-07-03T07:59:40.588352",
   "version": "2.4.0"
  }
 },
 "nbformat": 4,
 "nbformat_minor": 5
}

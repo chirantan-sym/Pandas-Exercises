{
 "cells": [
  {
   "cell_type": "markdown",
   "id": "b4b65ce0",
   "metadata": {
    "papermill": {
     "duration": 0.008474,
     "end_time": "2023-07-03T07:11:54.711394",
     "exception": false,
     "start_time": "2023-07-03T07:11:54.702920",
     "status": "completed"
    },
    "tags": []
   },
   "source": [
    "**This notebook is an exercise in the [Pandas](https://www.kaggle.com/learn/pandas) course.  You can reference the tutorial at [this link](https://www.kaggle.com/residentmario/grouping-and-sorting).**\n",
    "\n",
    "---\n"
   ]
  },
  {
   "cell_type": "markdown",
   "id": "5fca5641",
   "metadata": {
    "papermill": {
     "duration": 0.007222,
     "end_time": "2023-07-03T07:11:54.726268",
     "exception": false,
     "start_time": "2023-07-03T07:11:54.719046",
     "status": "completed"
    },
    "tags": []
   },
   "source": [
    "# Introduction\n",
    "\n",
    "In these exercises we'll apply groupwise analysis to our dataset.\n",
    "\n",
    "Run the code cell below to load the data before running the exercises."
   ]
  },
  {
   "cell_type": "code",
   "execution_count": 1,
   "id": "68c590ce",
   "metadata": {
    "execution": {
     "iopub.execute_input": "2023-07-03T07:11:54.743349Z",
     "iopub.status.busy": "2023-07-03T07:11:54.742940Z",
     "iopub.status.idle": "2023-07-03T07:11:58.149499Z",
     "shell.execute_reply": "2023-07-03T07:11:58.148393Z"
    },
    "papermill": {
     "duration": 3.41833,
     "end_time": "2023-07-03T07:11:58.152247",
     "exception": false,
     "start_time": "2023-07-03T07:11:54.733917",
     "status": "completed"
    },
    "tags": []
   },
   "outputs": [
    {
     "name": "stdout",
     "output_type": "stream",
     "text": [
      "Setup complete.\n"
     ]
    }
   ],
   "source": [
    "import pandas as pd\n",
    "\n",
    "reviews = pd.read_csv(\"../input/wine-reviews/winemag-data-130k-v2.csv\", index_col=0)\n",
    "#pd.set_option(\"display.max_rows\", 5)\n",
    "\n",
    "from learntools.core import binder; binder.bind(globals())\n",
    "from learntools.pandas.grouping_and_sorting import *\n",
    "print(\"Setup complete.\")"
   ]
  },
  {
   "cell_type": "markdown",
   "id": "39ed2f3d",
   "metadata": {
    "papermill": {
     "duration": 0.007585,
     "end_time": "2023-07-03T07:11:58.167541",
     "exception": false,
     "start_time": "2023-07-03T07:11:58.159956",
     "status": "completed"
    },
    "tags": []
   },
   "source": [
    "# Exercises"
   ]
  },
  {
   "cell_type": "markdown",
   "id": "986d4c94",
   "metadata": {
    "papermill": {
     "duration": 0.00878,
     "end_time": "2023-07-03T07:11:58.183808",
     "exception": false,
     "start_time": "2023-07-03T07:11:58.175028",
     "status": "completed"
    },
    "tags": []
   },
   "source": [
    "## 1.\n",
    "Who are the most common wine reviewers in the dataset? Create a `Series` whose index is the `taster_twitter_handle` category from the dataset, and whose values count how many reviews each person wrote."
   ]
  },
  {
   "cell_type": "code",
   "execution_count": 2,
   "id": "fd4834eb",
   "metadata": {
    "execution": {
     "iopub.execute_input": "2023-07-03T07:11:58.200667Z",
     "iopub.status.busy": "2023-07-03T07:11:58.200275Z",
     "iopub.status.idle": "2023-07-03T07:11:58.248541Z",
     "shell.execute_reply": "2023-07-03T07:11:58.247318Z"
    },
    "papermill": {
     "duration": 0.05985,
     "end_time": "2023-07-03T07:11:58.251024",
     "exception": false,
     "start_time": "2023-07-03T07:11:58.191174",
     "status": "completed"
    },
    "tags": []
   },
   "outputs": [
    {
     "data": {
      "application/javascript": [
       "parent.postMessage({\"jupyterEvent\": \"custom.exercise_interaction\", \"data\": {\"outcomeType\": 1, \"valueTowardsCompletion\": 0.16666666666666666, \"interactionType\": 1, \"questionType\": 1, \"questionId\": \"1_ReviewsWritten\", \"learnToolsVersion\": \"0.3.4\", \"failureMessage\": \"\", \"exceptionClass\": \"\", \"trace\": \"\"}}, \"*\")"
      ],
      "text/plain": [
       "<IPython.core.display.Javascript object>"
      ]
     },
     "metadata": {},
     "output_type": "display_data"
    },
    {
     "data": {
      "text/markdown": [
       "<span style=\"color:#33cc33\">Correct:</span> \n",
       "\n",
       "\n",
       "```python\n",
       "reviews_written = reviews.groupby('taster_twitter_handle').size()\n",
       "```\n",
       "or\n",
       "```python\n",
       "reviews_written = reviews.groupby('taster_twitter_handle').taster_twitter_handle.count()\n",
       "```\n"
      ],
      "text/plain": [
       "Correct: \n",
       "\n",
       "\n",
       "```python\n",
       "reviews_written = reviews.groupby('taster_twitter_handle').size()\n",
       "```\n",
       "or\n",
       "```python\n",
       "reviews_written = reviews.groupby('taster_twitter_handle').taster_twitter_handle.count()\n",
       "```"
      ]
     },
     "metadata": {},
     "output_type": "display_data"
    }
   ],
   "source": [
    "# Your code here\n",
    "reviews_written = reviews.groupby('taster_twitter_handle').taster_twitter_handle.count()\n",
    "\n",
    "# Check your answer\n",
    "q1.check()"
   ]
  },
  {
   "cell_type": "code",
   "execution_count": 3,
   "id": "2deb9ffc",
   "metadata": {
    "execution": {
     "iopub.execute_input": "2023-07-03T07:11:58.268780Z",
     "iopub.status.busy": "2023-07-03T07:11:58.268415Z",
     "iopub.status.idle": "2023-07-03T07:11:58.272923Z",
     "shell.execute_reply": "2023-07-03T07:11:58.271861Z"
    },
    "papermill": {
     "duration": 0.016438,
     "end_time": "2023-07-03T07:11:58.275312",
     "exception": false,
     "start_time": "2023-07-03T07:11:58.258874",
     "status": "completed"
    },
    "tags": []
   },
   "outputs": [],
   "source": [
    "#q1.hint()\n",
    "#q1.solution()"
   ]
  },
  {
   "cell_type": "markdown",
   "id": "5dab7452",
   "metadata": {
    "papermill": {
     "duration": 0.007764,
     "end_time": "2023-07-03T07:11:58.291114",
     "exception": false,
     "start_time": "2023-07-03T07:11:58.283350",
     "status": "completed"
    },
    "tags": []
   },
   "source": [
    "## 2.\n",
    "What is the best wine I can buy for a given amount of money? Create a `Series` whose index is wine prices and whose values is the maximum number of points a wine costing that much was given in a review. Sort the values by price, ascending (so that `4.0` dollars is at the top and `3300.0` dollars is at the bottom)."
   ]
  },
  {
   "cell_type": "code",
   "execution_count": 4,
   "id": "a6d2656d",
   "metadata": {
    "execution": {
     "iopub.execute_input": "2023-07-03T07:11:58.309350Z",
     "iopub.status.busy": "2023-07-03T07:11:58.308955Z",
     "iopub.status.idle": "2023-07-03T07:11:58.322464Z",
     "shell.execute_reply": "2023-07-03T07:11:58.321533Z"
    },
    "papermill": {
     "duration": 0.025339,
     "end_time": "2023-07-03T07:11:58.324520",
     "exception": false,
     "start_time": "2023-07-03T07:11:58.299181",
     "status": "completed"
    },
    "tags": []
   },
   "outputs": [
    {
     "data": {
      "application/javascript": [
       "parent.postMessage({\"jupyterEvent\": \"custom.exercise_interaction\", \"data\": {\"outcomeType\": 1, \"valueTowardsCompletion\": 0.16666666666666666, \"interactionType\": 1, \"questionType\": 1, \"questionId\": \"2_BestRatingPerPrice\", \"learnToolsVersion\": \"0.3.4\", \"failureMessage\": \"\", \"exceptionClass\": \"\", \"trace\": \"\"}}, \"*\")"
      ],
      "text/plain": [
       "<IPython.core.display.Javascript object>"
      ]
     },
     "metadata": {},
     "output_type": "display_data"
    },
    {
     "data": {
      "text/markdown": [
       "<span style=\"color:#33cc33\">Correct</span>"
      ],
      "text/plain": [
       "Correct"
      ]
     },
     "metadata": {},
     "output_type": "display_data"
    }
   ],
   "source": [
    "best_rating_per_price = reviews.groupby('price')['points'].max().sort_index()\n",
    "\n",
    "# Check your answer\n",
    "q2.check()"
   ]
  },
  {
   "cell_type": "code",
   "execution_count": 5,
   "id": "16d61316",
   "metadata": {
    "execution": {
     "iopub.execute_input": "2023-07-03T07:11:58.343089Z",
     "iopub.status.busy": "2023-07-03T07:11:58.342668Z",
     "iopub.status.idle": "2023-07-03T07:11:58.347583Z",
     "shell.execute_reply": "2023-07-03T07:11:58.346466Z"
    },
    "papermill": {
     "duration": 0.017209,
     "end_time": "2023-07-03T07:11:58.350044",
     "exception": false,
     "start_time": "2023-07-03T07:11:58.332835",
     "status": "completed"
    },
    "tags": []
   },
   "outputs": [],
   "source": [
    "#q2.hint()\n",
    "#q2.solution()"
   ]
  },
  {
   "cell_type": "markdown",
   "id": "bb96ed70",
   "metadata": {
    "papermill": {
     "duration": 0.008533,
     "end_time": "2023-07-03T07:11:58.366912",
     "exception": false,
     "start_time": "2023-07-03T07:11:58.358379",
     "status": "completed"
    },
    "tags": []
   },
   "source": [
    "## 3.\n",
    "What are the minimum and maximum prices for each `variety` of wine? Create a `DataFrame` whose index is the `variety` category from the dataset and whose values are the `min` and `max` values thereof."
   ]
  },
  {
   "cell_type": "code",
   "execution_count": 6,
   "id": "a9123312",
   "metadata": {
    "execution": {
     "iopub.execute_input": "2023-07-03T07:11:58.386577Z",
     "iopub.status.busy": "2023-07-03T07:11:58.386200Z",
     "iopub.status.idle": "2023-07-03T07:11:58.429389Z",
     "shell.execute_reply": "2023-07-03T07:11:58.428225Z"
    },
    "papermill": {
     "duration": 0.056153,
     "end_time": "2023-07-03T07:11:58.431928",
     "exception": false,
     "start_time": "2023-07-03T07:11:58.375775",
     "status": "completed"
    },
    "tags": []
   },
   "outputs": [
    {
     "data": {
      "application/javascript": [
       "parent.postMessage({\"jupyterEvent\": \"custom.exercise_interaction\", \"data\": {\"outcomeType\": 1, \"valueTowardsCompletion\": 0.16666666666666666, \"interactionType\": 1, \"questionType\": 1, \"questionId\": \"3_PriceExtremes\", \"learnToolsVersion\": \"0.3.4\", \"failureMessage\": \"\", \"exceptionClass\": \"\", \"trace\": \"\"}}, \"*\")"
      ],
      "text/plain": [
       "<IPython.core.display.Javascript object>"
      ]
     },
     "metadata": {},
     "output_type": "display_data"
    },
    {
     "data": {
      "text/markdown": [
       "<span style=\"color:#33cc33\">Correct</span>"
      ],
      "text/plain": [
       "Correct"
      ]
     },
     "metadata": {},
     "output_type": "display_data"
    }
   ],
   "source": [
    "price_extremes = reviews.groupby('variety').price.agg([min,max])\n",
    "\n",
    "# Check your answer\n",
    "q3.check()"
   ]
  },
  {
   "cell_type": "code",
   "execution_count": 7,
   "id": "2599c7f9",
   "metadata": {
    "execution": {
     "iopub.execute_input": "2023-07-03T07:11:58.452210Z",
     "iopub.status.busy": "2023-07-03T07:11:58.451824Z",
     "iopub.status.idle": "2023-07-03T07:11:58.456447Z",
     "shell.execute_reply": "2023-07-03T07:11:58.455401Z"
    },
    "papermill": {
     "duration": 0.018051,
     "end_time": "2023-07-03T07:11:58.458898",
     "exception": false,
     "start_time": "2023-07-03T07:11:58.440847",
     "status": "completed"
    },
    "tags": []
   },
   "outputs": [],
   "source": [
    "#q3.hint()\n",
    "#q3.solution()"
   ]
  },
  {
   "cell_type": "markdown",
   "id": "67b5f361",
   "metadata": {
    "papermill": {
     "duration": 0.008387,
     "end_time": "2023-07-03T07:11:58.476172",
     "exception": false,
     "start_time": "2023-07-03T07:11:58.467785",
     "status": "completed"
    },
    "tags": []
   },
   "source": [
    "## 4.\n",
    "What are the most expensive wine varieties? Create a variable `sorted_varieties` containing a copy of the dataframe from the previous question where varieties are sorted in descending order based on minimum price, then on maximum price (to break ties)."
   ]
  },
  {
   "cell_type": "code",
   "execution_count": 8,
   "id": "75dc869a",
   "metadata": {
    "execution": {
     "iopub.execute_input": "2023-07-03T07:11:58.495392Z",
     "iopub.status.busy": "2023-07-03T07:11:58.495013Z",
     "iopub.status.idle": "2023-07-03T07:11:58.539738Z",
     "shell.execute_reply": "2023-07-03T07:11:58.538550Z"
    },
    "papermill": {
     "duration": 0.057674,
     "end_time": "2023-07-03T07:11:58.542582",
     "exception": false,
     "start_time": "2023-07-03T07:11:58.484908",
     "status": "completed"
    },
    "tags": []
   },
   "outputs": [
    {
     "data": {
      "application/javascript": [
       "parent.postMessage({\"jupyterEvent\": \"custom.exercise_interaction\", \"data\": {\"outcomeType\": 1, \"valueTowardsCompletion\": 0.16666666666666666, \"interactionType\": 1, \"questionType\": 1, \"questionId\": \"4_SortedVarieties\", \"learnToolsVersion\": \"0.3.4\", \"failureMessage\": \"\", \"exceptionClass\": \"\", \"trace\": \"\"}}, \"*\")"
      ],
      "text/plain": [
       "<IPython.core.display.Javascript object>"
      ]
     },
     "metadata": {},
     "output_type": "display_data"
    },
    {
     "data": {
      "text/markdown": [
       "<span style=\"color:#33cc33\">Correct</span>"
      ],
      "text/plain": [
       "Correct"
      ]
     },
     "metadata": {},
     "output_type": "display_data"
    }
   ],
   "source": [
    "sorted_varieties = reviews.groupby('variety').price.agg([min,max]).sort_values(by=['min','max'],ascending=False)\n",
    "\n",
    "# Check your answer\n",
    "q4.check()"
   ]
  },
  {
   "cell_type": "code",
   "execution_count": 9,
   "id": "86e431df",
   "metadata": {
    "execution": {
     "iopub.execute_input": "2023-07-03T07:11:58.565068Z",
     "iopub.status.busy": "2023-07-03T07:11:58.564129Z",
     "iopub.status.idle": "2023-07-03T07:11:58.568086Z",
     "shell.execute_reply": "2023-07-03T07:11:58.567305Z"
    },
    "papermill": {
     "duration": 0.018515,
     "end_time": "2023-07-03T07:11:58.570736",
     "exception": false,
     "start_time": "2023-07-03T07:11:58.552221",
     "status": "completed"
    },
    "tags": []
   },
   "outputs": [],
   "source": [
    "#q4.hint()\n",
    "#q4.solution()"
   ]
  },
  {
   "cell_type": "markdown",
   "id": "7d8ce982",
   "metadata": {
    "papermill": {
     "duration": 0.009238,
     "end_time": "2023-07-03T07:11:58.589150",
     "exception": false,
     "start_time": "2023-07-03T07:11:58.579912",
     "status": "completed"
    },
    "tags": []
   },
   "source": [
    "## 5.\n",
    "Create a `Series` whose index is reviewers and whose values is the average review score given out by that reviewer. Hint: you will need the `taster_name` and `points` columns."
   ]
  },
  {
   "cell_type": "code",
   "execution_count": 10,
   "id": "973aa32c",
   "metadata": {
    "execution": {
     "iopub.execute_input": "2023-07-03T07:11:58.609022Z",
     "iopub.status.busy": "2023-07-03T07:11:58.608584Z",
     "iopub.status.idle": "2023-07-03T07:11:58.644527Z",
     "shell.execute_reply": "2023-07-03T07:11:58.643314Z"
    },
    "papermill": {
     "duration": 0.048705,
     "end_time": "2023-07-03T07:11:58.646938",
     "exception": false,
     "start_time": "2023-07-03T07:11:58.598233",
     "status": "completed"
    },
    "tags": []
   },
   "outputs": [
    {
     "data": {
      "application/javascript": [
       "parent.postMessage({\"jupyterEvent\": \"custom.exercise_interaction\", \"data\": {\"outcomeType\": 1, \"valueTowardsCompletion\": 0.16666666666666666, \"interactionType\": 1, \"questionType\": 1, \"questionId\": \"5_ReviewerMeanRatings\", \"learnToolsVersion\": \"0.3.4\", \"failureMessage\": \"\", \"exceptionClass\": \"\", \"trace\": \"\"}}, \"*\")"
      ],
      "text/plain": [
       "<IPython.core.display.Javascript object>"
      ]
     },
     "metadata": {},
     "output_type": "display_data"
    },
    {
     "data": {
      "text/markdown": [
       "<span style=\"color:#33cc33\">Correct</span>"
      ],
      "text/plain": [
       "Correct"
      ]
     },
     "metadata": {},
     "output_type": "display_data"
    }
   ],
   "source": [
    "reviewer_mean_ratings = reviews.groupby('taster_name').points.mean()\n",
    "\n",
    "# Check your answer\n",
    "q5.check()"
   ]
  },
  {
   "cell_type": "code",
   "execution_count": 11,
   "id": "7a18846e",
   "metadata": {
    "execution": {
     "iopub.execute_input": "2023-07-03T07:11:58.668404Z",
     "iopub.status.busy": "2023-07-03T07:11:58.667222Z",
     "iopub.status.idle": "2023-07-03T07:11:58.672146Z",
     "shell.execute_reply": "2023-07-03T07:11:58.671059Z"
    },
    "papermill": {
     "duration": 0.018286,
     "end_time": "2023-07-03T07:11:58.674656",
     "exception": false,
     "start_time": "2023-07-03T07:11:58.656370",
     "status": "completed"
    },
    "tags": []
   },
   "outputs": [],
   "source": [
    "#q5.hint()\n",
    "#q5.solution()"
   ]
  },
  {
   "cell_type": "markdown",
   "id": "101ce09e",
   "metadata": {
    "papermill": {
     "duration": 0.009026,
     "end_time": "2023-07-03T07:11:58.693198",
     "exception": false,
     "start_time": "2023-07-03T07:11:58.684172",
     "status": "completed"
    },
    "tags": []
   },
   "source": [
    "Are there significant differences in the average scores assigned by the various reviewers? Run the cell below to use the `describe()` method to see a summary of the range of values."
   ]
  },
  {
   "cell_type": "code",
   "execution_count": 12,
   "id": "e4fb5876",
   "metadata": {
    "execution": {
     "iopub.execute_input": "2023-07-03T07:11:58.714668Z",
     "iopub.status.busy": "2023-07-03T07:11:58.714264Z",
     "iopub.status.idle": "2023-07-03T07:11:58.727995Z",
     "shell.execute_reply": "2023-07-03T07:11:58.727130Z"
    },
    "papermill": {
     "duration": 0.027874,
     "end_time": "2023-07-03T07:11:58.730361",
     "exception": false,
     "start_time": "2023-07-03T07:11:58.702487",
     "status": "completed"
    },
    "tags": []
   },
   "outputs": [
    {
     "data": {
      "text/plain": [
       "count    19.000000\n",
       "mean     88.233026\n",
       "std       1.243610\n",
       "min      85.855422\n",
       "25%      87.323501\n",
       "50%      88.536235\n",
       "75%      88.975256\n",
       "max      90.562551\n",
       "Name: points, dtype: float64"
      ]
     },
     "execution_count": 12,
     "metadata": {},
     "output_type": "execute_result"
    }
   ],
   "source": [
    "reviewer_mean_ratings.describe()"
   ]
  },
  {
   "cell_type": "markdown",
   "id": "7d2865b4",
   "metadata": {
    "papermill": {
     "duration": 0.009219,
     "end_time": "2023-07-03T07:11:58.749248",
     "exception": false,
     "start_time": "2023-07-03T07:11:58.740029",
     "status": "completed"
    },
    "tags": []
   },
   "source": [
    "## 6.\n",
    "What combination of countries and varieties are most common? Create a `Series` whose index is a `MultiIndex`of `{country, variety}` pairs. For example, a pinot noir produced in the US should map to `{\"US\", \"Pinot Noir\"}`. Sort the values in the `Series` in descending order based on wine count."
   ]
  },
  {
   "cell_type": "code",
   "execution_count": 13,
   "id": "e509685d",
   "metadata": {
    "execution": {
     "iopub.execute_input": "2023-07-03T07:11:58.770404Z",
     "iopub.status.busy": "2023-07-03T07:11:58.769585Z",
     "iopub.status.idle": "2023-07-03T07:11:58.836448Z",
     "shell.execute_reply": "2023-07-03T07:11:58.835401Z"
    },
    "papermill": {
     "duration": 0.080514,
     "end_time": "2023-07-03T07:11:58.839195",
     "exception": false,
     "start_time": "2023-07-03T07:11:58.758681",
     "status": "completed"
    },
    "tags": []
   },
   "outputs": [
    {
     "data": {
      "application/javascript": [
       "parent.postMessage({\"jupyterEvent\": \"custom.exercise_interaction\", \"data\": {\"outcomeType\": 1, \"valueTowardsCompletion\": 0.16666666666666666, \"interactionType\": 1, \"questionType\": 1, \"questionId\": \"6_GroupbyCountryVariety\", \"learnToolsVersion\": \"0.3.4\", \"failureMessage\": \"\", \"exceptionClass\": \"\", \"trace\": \"\"}}, \"*\")"
      ],
      "text/plain": [
       "<IPython.core.display.Javascript object>"
      ]
     },
     "metadata": {},
     "output_type": "display_data"
    },
    {
     "data": {
      "text/markdown": [
       "<span style=\"color:#33cc33\">Correct</span>"
      ],
      "text/plain": [
       "Correct"
      ]
     },
     "metadata": {},
     "output_type": "display_data"
    }
   ],
   "source": [
    "country_variety_counts = reviews.groupby(['country','variety']).size().sort_values(ascending=False)\n",
    "\n",
    "# Check your answer\n",
    "q6.check()"
   ]
  },
  {
   "cell_type": "code",
   "execution_count": 14,
   "id": "c315f5af",
   "metadata": {
    "execution": {
     "iopub.execute_input": "2023-07-03T07:11:58.861101Z",
     "iopub.status.busy": "2023-07-03T07:11:58.859939Z",
     "iopub.status.idle": "2023-07-03T07:11:58.864811Z",
     "shell.execute_reply": "2023-07-03T07:11:58.864027Z"
    },
    "papermill": {
     "duration": 0.018158,
     "end_time": "2023-07-03T07:11:58.867106",
     "exception": false,
     "start_time": "2023-07-03T07:11:58.848948",
     "status": "completed"
    },
    "tags": []
   },
   "outputs": [],
   "source": [
    "#q6.hint()\n",
    "#q6.solution()"
   ]
  },
  {
   "cell_type": "markdown",
   "id": "174ae060",
   "metadata": {
    "papermill": {
     "duration": 0.009614,
     "end_time": "2023-07-03T07:11:58.886509",
     "exception": false,
     "start_time": "2023-07-03T07:11:58.876895",
     "status": "completed"
    },
    "tags": []
   },
   "source": [
    "# Keep going\n",
    "\n",
    "Move on to the [**data types and missing data**](https://www.kaggle.com/residentmario/data-types-and-missing-values)."
   ]
  },
  {
   "cell_type": "markdown",
   "id": "52de5f6a",
   "metadata": {
    "papermill": {
     "duration": 0.009464,
     "end_time": "2023-07-03T07:11:58.905774",
     "exception": false,
     "start_time": "2023-07-03T07:11:58.896310",
     "status": "completed"
    },
    "tags": []
   },
   "source": [
    "---\n",
    "\n",
    "\n",
    "\n",
    "\n",
    "*Have questions or comments? Visit the [course discussion forum](https://www.kaggle.com/learn/pandas/discussion) to chat with other learners.*"
   ]
  }
 ],
 "metadata": {
  "kernelspec": {
   "display_name": "Python 3",
   "language": "python",
   "name": "python3"
  },
  "language_info": {
   "codemirror_mode": {
    "name": "ipython",
    "version": 3
   },
   "file_extension": ".py",
   "mimetype": "text/x-python",
   "name": "python",
   "nbconvert_exporter": "python",
   "pygments_lexer": "ipython3",
   "version": "3.10.10"
  },
  "papermill": {
   "default_parameters": {},
   "duration": 18.039862,
   "end_time": "2023-07-03T07:11:59.838080",
   "environment_variables": {},
   "exception": null,
   "input_path": "__notebook__.ipynb",
   "output_path": "__notebook__.ipynb",
   "parameters": {},
   "start_time": "2023-07-03T07:11:41.798218",
   "version": "2.4.0"
  }
 },
 "nbformat": 4,
 "nbformat_minor": 5
}

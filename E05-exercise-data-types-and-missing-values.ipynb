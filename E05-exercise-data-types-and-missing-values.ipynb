{
 "cells": [
  {
   "cell_type": "markdown",
   "id": "2a5ec961",
   "metadata": {
    "papermill": {
     "duration": 0.004514,
     "end_time": "2023-07-03T07:34:29.491121",
     "exception": false,
     "start_time": "2023-07-03T07:34:29.486607",
     "status": "completed"
    },
    "tags": []
   },
   "source": [
    "**This notebook is an exercise in the [Pandas](https://www.kaggle.com/learn/pandas) course.  You can reference the tutorial at [this link](https://www.kaggle.com/residentmario/data-types-and-missing-values).**\n",
    "\n",
    "---\n"
   ]
  },
  {
   "cell_type": "markdown",
   "id": "8527dff1",
   "metadata": {
    "papermill": {
     "duration": 0.003699,
     "end_time": "2023-07-03T07:34:29.499097",
     "exception": false,
     "start_time": "2023-07-03T07:34:29.495398",
     "status": "completed"
    },
    "tags": []
   },
   "source": [
    "# Introduction\n",
    "\n",
    "Run the following cell to load your data and some utility functions."
   ]
  },
  {
   "cell_type": "code",
   "execution_count": 1,
   "id": "492d523b",
   "metadata": {
    "execution": {
     "iopub.execute_input": "2023-07-03T07:34:29.508861Z",
     "iopub.status.busy": "2023-07-03T07:34:29.508500Z",
     "iopub.status.idle": "2023-07-03T07:34:32.783838Z",
     "shell.execute_reply": "2023-07-03T07:34:32.782380Z"
    },
    "papermill": {
     "duration": 3.283022,
     "end_time": "2023-07-03T07:34:32.786081",
     "exception": false,
     "start_time": "2023-07-03T07:34:29.503059",
     "status": "completed"
    },
    "tags": []
   },
   "outputs": [
    {
     "name": "stdout",
     "output_type": "stream",
     "text": [
      "Setup complete.\n"
     ]
    }
   ],
   "source": [
    "import pandas as pd\n",
    "\n",
    "reviews = pd.read_csv(\"../input/wine-reviews/winemag-data-130k-v2.csv\", index_col=0)\n",
    "\n",
    "from learntools.core import binder; binder.bind(globals())\n",
    "from learntools.pandas.data_types_and_missing_data import *\n",
    "print(\"Setup complete.\")"
   ]
  },
  {
   "cell_type": "markdown",
   "id": "862cba81",
   "metadata": {
    "papermill": {
     "duration": 0.003751,
     "end_time": "2023-07-03T07:34:32.794054",
     "exception": false,
     "start_time": "2023-07-03T07:34:32.790303",
     "status": "completed"
    },
    "tags": []
   },
   "source": [
    "# Exercises"
   ]
  },
  {
   "cell_type": "markdown",
   "id": "a86619c3",
   "metadata": {
    "papermill": {
     "duration": 0.004385,
     "end_time": "2023-07-03T07:34:32.802502",
     "exception": false,
     "start_time": "2023-07-03T07:34:32.798117",
     "status": "completed"
    },
    "tags": []
   },
   "source": [
    "## 1. \n",
    "What is the data type of the `points` column in the dataset?"
   ]
  },
  {
   "cell_type": "code",
   "execution_count": 2,
   "id": "81ae3e1b",
   "metadata": {
    "execution": {
     "iopub.execute_input": "2023-07-03T07:34:32.812533Z",
     "iopub.status.busy": "2023-07-03T07:34:32.811760Z",
     "iopub.status.idle": "2023-07-03T07:34:32.821857Z",
     "shell.execute_reply": "2023-07-03T07:34:32.820817Z"
    },
    "papermill": {
     "duration": 0.017676,
     "end_time": "2023-07-03T07:34:32.824149",
     "exception": false,
     "start_time": "2023-07-03T07:34:32.806473",
     "status": "completed"
    },
    "tags": []
   },
   "outputs": [
    {
     "data": {
      "application/javascript": [
       "parent.postMessage({\"jupyterEvent\": \"custom.exercise_interaction\", \"data\": {\"outcomeType\": 1, \"valueTowardsCompletion\": 0.25, \"interactionType\": 1, \"questionType\": 1, \"questionId\": \"1_PointsDtype\", \"learnToolsVersion\": \"0.3.4\", \"failureMessage\": \"\", \"exceptionClass\": \"\", \"trace\": \"\"}}, \"*\")"
      ],
      "text/plain": [
       "<IPython.core.display.Javascript object>"
      ]
     },
     "metadata": {},
     "output_type": "display_data"
    },
    {
     "data": {
      "text/markdown": [
       "<span style=\"color:#33cc33\">Correct</span>"
      ],
      "text/plain": [
       "Correct"
      ]
     },
     "metadata": {},
     "output_type": "display_data"
    }
   ],
   "source": [
    "# Your code here\n",
    "dtype = reviews.points.dtype\n",
    "\n",
    "# Check your answer\n",
    "q1.check()"
   ]
  },
  {
   "cell_type": "code",
   "execution_count": 3,
   "id": "84dced3a",
   "metadata": {
    "execution": {
     "iopub.execute_input": "2023-07-03T07:34:32.836809Z",
     "iopub.status.busy": "2023-07-03T07:34:32.836423Z",
     "iopub.status.idle": "2023-07-03T07:34:32.840863Z",
     "shell.execute_reply": "2023-07-03T07:34:32.839769Z"
    },
    "papermill": {
     "duration": 0.014543,
     "end_time": "2023-07-03T07:34:32.843143",
     "exception": false,
     "start_time": "2023-07-03T07:34:32.828600",
     "status": "completed"
    },
    "tags": []
   },
   "outputs": [],
   "source": [
    "#q1.hint()\n",
    "#q1.solution()"
   ]
  },
  {
   "cell_type": "markdown",
   "id": "60e7ad47",
   "metadata": {
    "papermill": {
     "duration": 0.004225,
     "end_time": "2023-07-03T07:34:32.852141",
     "exception": false,
     "start_time": "2023-07-03T07:34:32.847916",
     "status": "completed"
    },
    "tags": []
   },
   "source": [
    "## 2. \n",
    "Create a Series from entries in the `points` column, but convert the entries to strings. Hint: strings are `str` in native Python."
   ]
  },
  {
   "cell_type": "code",
   "execution_count": 4,
   "id": "b60e5207",
   "metadata": {
    "execution": {
     "iopub.execute_input": "2023-07-03T07:34:32.862780Z",
     "iopub.status.busy": "2023-07-03T07:34:32.861791Z",
     "iopub.status.idle": "2023-07-03T07:34:32.925099Z",
     "shell.execute_reply": "2023-07-03T07:34:32.924050Z"
    },
    "papermill": {
     "duration": 0.071412,
     "end_time": "2023-07-03T07:34:32.927853",
     "exception": false,
     "start_time": "2023-07-03T07:34:32.856441",
     "status": "completed"
    },
    "tags": []
   },
   "outputs": [
    {
     "data": {
      "application/javascript": [
       "parent.postMessage({\"jupyterEvent\": \"custom.exercise_interaction\", \"data\": {\"outcomeType\": 1, \"valueTowardsCompletion\": 0.25, \"interactionType\": 1, \"questionType\": 1, \"questionId\": \"2_StrPoints\", \"learnToolsVersion\": \"0.3.4\", \"failureMessage\": \"\", \"exceptionClass\": \"\", \"trace\": \"\"}}, \"*\")"
      ],
      "text/plain": [
       "<IPython.core.display.Javascript object>"
      ]
     },
     "metadata": {},
     "output_type": "display_data"
    },
    {
     "data": {
      "text/markdown": [
       "<span style=\"color:#33cc33\">Correct</span>"
      ],
      "text/plain": [
       "Correct"
      ]
     },
     "metadata": {},
     "output_type": "display_data"
    }
   ],
   "source": [
    "point_strings = reviews.points.astype('str')\n",
    "\n",
    "# Check your answer\n",
    "q2.check()"
   ]
  },
  {
   "cell_type": "code",
   "execution_count": 5,
   "id": "0d84a47a",
   "metadata": {
    "execution": {
     "iopub.execute_input": "2023-07-03T07:34:32.939171Z",
     "iopub.status.busy": "2023-07-03T07:34:32.938799Z",
     "iopub.status.idle": "2023-07-03T07:34:32.942932Z",
     "shell.execute_reply": "2023-07-03T07:34:32.942031Z"
    },
    "papermill": {
     "duration": 0.012136,
     "end_time": "2023-07-03T07:34:32.944835",
     "exception": false,
     "start_time": "2023-07-03T07:34:32.932699",
     "status": "completed"
    },
    "tags": []
   },
   "outputs": [],
   "source": [
    "#q2.hint()\n",
    "#q2.solution()"
   ]
  },
  {
   "cell_type": "markdown",
   "id": "5beae0ca",
   "metadata": {
    "papermill": {
     "duration": 0.004555,
     "end_time": "2023-07-03T07:34:32.954100",
     "exception": false,
     "start_time": "2023-07-03T07:34:32.949545",
     "status": "completed"
    },
    "tags": []
   },
   "source": [
    "## 3.\n",
    "Sometimes the price column is null. How many reviews in the dataset are missing a price?"
   ]
  },
  {
   "cell_type": "code",
   "execution_count": 6,
   "id": "b132de31",
   "metadata": {
    "execution": {
     "iopub.execute_input": "2023-07-03T07:34:32.965645Z",
     "iopub.status.busy": "2023-07-03T07:34:32.964623Z",
     "iopub.status.idle": "2023-07-03T07:34:32.973021Z",
     "shell.execute_reply": "2023-07-03T07:34:32.972276Z"
    },
    "papermill": {
     "duration": 0.016474,
     "end_time": "2023-07-03T07:34:32.975243",
     "exception": false,
     "start_time": "2023-07-03T07:34:32.958769",
     "status": "completed"
    },
    "tags": []
   },
   "outputs": [
    {
     "data": {
      "application/javascript": [
       "parent.postMessage({\"jupyterEvent\": \"custom.exercise_interaction\", \"data\": {\"outcomeType\": 1, \"valueTowardsCompletion\": 0.25, \"interactionType\": 1, \"questionType\": 1, \"questionId\": \"3_CountMissingPrices\", \"learnToolsVersion\": \"0.3.4\", \"failureMessage\": \"\", \"exceptionClass\": \"\", \"trace\": \"\"}}, \"*\")"
      ],
      "text/plain": [
       "<IPython.core.display.Javascript object>"
      ]
     },
     "metadata": {},
     "output_type": "display_data"
    },
    {
     "data": {
      "text/markdown": [
       "<span style=\"color:#33cc33\">Correct</span>"
      ],
      "text/plain": [
       "Correct"
      ]
     },
     "metadata": {},
     "output_type": "display_data"
    }
   ],
   "source": [
    "n_missing_prices = reviews.price.isnull().sum()\n",
    "\n",
    "# Check your answer\n",
    "q3.check()"
   ]
  },
  {
   "cell_type": "code",
   "execution_count": 7,
   "id": "a1705b5c",
   "metadata": {
    "execution": {
     "iopub.execute_input": "2023-07-03T07:34:32.986926Z",
     "iopub.status.busy": "2023-07-03T07:34:32.986491Z",
     "iopub.status.idle": "2023-07-03T07:34:32.990568Z",
     "shell.execute_reply": "2023-07-03T07:34:32.989643Z"
    },
    "papermill": {
     "duration": 0.012572,
     "end_time": "2023-07-03T07:34:32.992656",
     "exception": false,
     "start_time": "2023-07-03T07:34:32.980084",
     "status": "completed"
    },
    "tags": []
   },
   "outputs": [],
   "source": [
    "#q3.hint()\n",
    "#q3.solution()"
   ]
  },
  {
   "cell_type": "markdown",
   "id": "34f5ee03",
   "metadata": {
    "papermill": {
     "duration": 0.004626,
     "end_time": "2023-07-03T07:34:33.002259",
     "exception": false,
     "start_time": "2023-07-03T07:34:32.997633",
     "status": "completed"
    },
    "tags": []
   },
   "source": [
    "## 4.\n",
    "What are the most common wine-producing regions? Create a Series counting the number of times each value occurs in the `region_1` field. This field is often missing data, so replace missing values with `Unknown`. Sort in descending order.  Your output should look something like this:\n",
    "\n",
    "```\n",
    "Unknown                    21247\n",
    "Napa Valley                 4480\n",
    "                           ...  \n",
    "Bardolino Superiore            1\n",
    "Primitivo del Tarantino        1\n",
    "Name: region_1, Length: 1230, dtype: int64\n",
    "```"
   ]
  },
  {
   "cell_type": "code",
   "execution_count": 8,
   "id": "21954349",
   "metadata": {
    "execution": {
     "iopub.execute_input": "2023-07-03T07:34:33.013664Z",
     "iopub.status.busy": "2023-07-03T07:34:33.013312Z",
     "iopub.status.idle": "2023-07-03T07:34:33.062972Z",
     "shell.execute_reply": "2023-07-03T07:34:33.061799Z"
    },
    "papermill": {
     "duration": 0.057967,
     "end_time": "2023-07-03T07:34:33.065352",
     "exception": false,
     "start_time": "2023-07-03T07:34:33.007385",
     "status": "completed"
    },
    "tags": []
   },
   "outputs": [
    {
     "data": {
      "application/javascript": [
       "parent.postMessage({\"jupyterEvent\": \"custom.exercise_interaction\", \"data\": {\"outcomeType\": 1, \"valueTowardsCompletion\": 0.25, \"interactionType\": 1, \"questionType\": 2, \"questionId\": \"4_ReviewsPerRegion\", \"learnToolsVersion\": \"0.3.4\", \"failureMessage\": \"\", \"exceptionClass\": \"\", \"trace\": \"\"}}, \"*\")"
      ],
      "text/plain": [
       "<IPython.core.display.Javascript object>"
      ]
     },
     "metadata": {},
     "output_type": "display_data"
    },
    {
     "data": {
      "text/markdown": [
       "<span style=\"color:#33cc33\">Correct</span>"
      ],
      "text/plain": [
       "Correct"
      ]
     },
     "metadata": {},
     "output_type": "display_data"
    }
   ],
   "source": [
    "reviews_per_region = reviews.region_1.fillna('Unknown').value_counts().sort_values(ascending=False)\n",
    "\n",
    "# Check your answer\n",
    "q4.check()"
   ]
  },
  {
   "cell_type": "code",
   "execution_count": 9,
   "id": "1b2d93cb",
   "metadata": {
    "execution": {
     "iopub.execute_input": "2023-07-03T07:34:33.077256Z",
     "iopub.status.busy": "2023-07-03T07:34:33.076870Z",
     "iopub.status.idle": "2023-07-03T07:34:33.081182Z",
     "shell.execute_reply": "2023-07-03T07:34:33.080033Z"
    },
    "papermill": {
     "duration": 0.012742,
     "end_time": "2023-07-03T07:34:33.083277",
     "exception": false,
     "start_time": "2023-07-03T07:34:33.070535",
     "status": "completed"
    },
    "tags": []
   },
   "outputs": [],
   "source": [
    "#q4.hint()\n",
    "#q4.solution()"
   ]
  },
  {
   "cell_type": "markdown",
   "id": "9d51d593",
   "metadata": {
    "papermill": {
     "duration": 0.004861,
     "end_time": "2023-07-03T07:34:33.093301",
     "exception": false,
     "start_time": "2023-07-03T07:34:33.088440",
     "status": "completed"
    },
    "tags": []
   },
   "source": [
    "# Keep going\n",
    "\n",
    "Move on to **[renaming and combining](https://www.kaggle.com/residentmario/renaming-and-combining)**."
   ]
  },
  {
   "cell_type": "markdown",
   "id": "fb3d4f8a",
   "metadata": {
    "papermill": {
     "duration": 0.004935,
     "end_time": "2023-07-03T07:34:33.103274",
     "exception": false,
     "start_time": "2023-07-03T07:34:33.098339",
     "status": "completed"
    },
    "tags": []
   },
   "source": [
    "---\n",
    "\n",
    "\n",
    "\n",
    "\n",
    "*Have questions or comments? Visit the [course discussion forum](https://www.kaggle.com/learn/pandas/discussion) to chat with other learners.*"
   ]
  }
 ],
 "metadata": {
  "kernelspec": {
   "display_name": "Python 3",
   "language": "python",
   "name": "python3"
  },
  "language_info": {
   "codemirror_mode": {
    "name": "ipython",
    "version": 3
   },
   "file_extension": ".py",
   "mimetype": "text/x-python",
   "name": "python",
   "nbconvert_exporter": "python",
   "pygments_lexer": "ipython3",
   "version": "3.10.10"
  },
  "papermill": {
   "default_parameters": {},
   "duration": 15.447897,
   "end_time": "2023-07-03T07:34:34.029845",
   "environment_variables": {},
   "exception": null,
   "input_path": "__notebook__.ipynb",
   "output_path": "__notebook__.ipynb",
   "parameters": {},
   "start_time": "2023-07-03T07:34:18.581948",
   "version": "2.4.0"
  }
 },
 "nbformat": 4,
 "nbformat_minor": 5
}
